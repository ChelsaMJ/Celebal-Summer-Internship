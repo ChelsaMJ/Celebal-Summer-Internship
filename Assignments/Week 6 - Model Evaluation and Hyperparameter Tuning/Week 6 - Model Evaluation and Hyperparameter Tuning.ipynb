{
 "cells": [
  {
   "cell_type": "markdown",
   "id": "143664ee-5086-4370-ac9b-b5ab6fb02312",
   "metadata": {},
   "source": [
    "## Import Libraries"
   ]
  },
  {
   "cell_type": "code",
   "execution_count": 11,
   "id": "1d009d43-f66a-487e-8f8b-705608f880b2",
   "metadata": {},
   "outputs": [],
   "source": [
    "import pandas as pd\n",
    "import numpy as np\n",
    "\n",
    "from sklearn.model_selection import train_test_split, GridSearchCV, RandomizedSearchCV\n",
    "from sklearn.preprocessing import StandardScaler, LabelEncoder\n",
    "from sklearn.metrics import mean_squared_error, mean_absolute_error, r2_score\n",
    "\n",
    "from sklearn.linear_model import LinearRegression\n",
    "from sklearn.ensemble import RandomForestRegressor\n",
    "from sklearn.svm import SVR\n",
    "from sklearn.neighbors import KNeighborsRegressor\n",
    "\n",
    "from scipy.stats import randint, uniform\n"
   ]
  },
  {
   "cell_type": "code",
   "execution_count": 3,
   "id": "1f561b42-60bd-4b83-89e7-f16ae8ef02f0",
   "metadata": {},
   "outputs": [
    {
     "name": "stdout",
     "output_type": "stream",
     "text": [
      "   ID    Product Region  Sales  Quantity  Discount  Profit Month\n",
      "0   1     Eraser   West    316         3      0.08     451   May\n",
      "1   2  Sharpener   East    863         1      0.15     252   Mar\n",
      "2   3   Notebook   West    287         5      0.09    -164   Jun\n",
      "3   4  Sharpener   East    479        14      0.09     -41   Mar\n",
      "4   5  Sharpener   West    592         7      0.01    -192   Mar\n",
      "<class 'pandas.core.frame.DataFrame'>\n",
      "RangeIndex: 50 entries, 0 to 49\n",
      "Data columns (total 8 columns):\n",
      " #   Column    Non-Null Count  Dtype  \n",
      "---  ------    --------------  -----  \n",
      " 0   ID        50 non-null     int64  \n",
      " 1   Product   50 non-null     object \n",
      " 2   Region    50 non-null     object \n",
      " 3   Sales     50 non-null     int64  \n",
      " 4   Quantity  50 non-null     int64  \n",
      " 5   Discount  50 non-null     float64\n",
      " 6   Profit    50 non-null     int64  \n",
      " 7   Month     50 non-null     object \n",
      "dtypes: float64(1), int64(4), object(3)\n",
      "memory usage: 3.3+ KB\n",
      "None\n",
      "ID          0\n",
      "Product     0\n",
      "Region      0\n",
      "Sales       0\n",
      "Quantity    0\n",
      "Discount    0\n",
      "Profit      0\n",
      "Month       0\n",
      "dtype: int64\n"
     ]
    }
   ],
   "source": [
    "df = pd.read_csv(\"sales_data_50.csv\") \n",
    "\n",
    "print(df.head())\n",
    "print(df.info())\n",
    "print(df.isnull().sum())\n"
   ]
  },
  {
   "cell_type": "markdown",
   "id": "50800349-932f-4cae-b55b-41aef97d1f29",
   "metadata": {},
   "source": [
    "## Preprocessing"
   ]
  },
  {
   "cell_type": "code",
   "execution_count": 5,
   "id": "a2767056-8abc-49e0-8fb7-693124296034",
   "metadata": {},
   "outputs": [],
   "source": [
    "# Droping ID - not useful for prediction\n",
    "df.drop(\"ID\", axis=1, inplace=True)\n",
    "\n",
    "for col in ['Product', 'Region', 'Month']:\n",
    "    le = LabelEncoder()\n",
    "    df[col] = le.fit_transform(df[col])\n",
    "\n",
    "X = df.drop(\"Profit\", axis=1)\n",
    "y = df[\"Profit\"]\n"
   ]
  },
  {
   "cell_type": "markdown",
   "id": "610ffd22-d9bb-4867-adba-a8f68e459c81",
   "metadata": {},
   "source": [
    "## Split & Scale"
   ]
  },
  {
   "cell_type": "code",
   "execution_count": 7,
   "id": "14714057-f401-4afa-b47b-baeaffb684b2",
   "metadata": {},
   "outputs": [],
   "source": [
    "X_train, X_test, y_train, y_test = train_test_split(X, y, test_size=0.3, random_state=42)\n",
    "\n",
    "scaler = StandardScaler()\n",
    "X_train = scaler.fit_transform(X_train)\n",
    "X_test = scaler.transform(X_test)\n"
   ]
  },
  {
   "cell_type": "markdown",
   "id": "e5e46f6b-6e24-4ce0-b463-0b4d2842426a",
   "metadata": {},
   "source": [
    "## Evaluating Base Models"
   ]
  },
  {
   "cell_type": "code",
   "execution_count": 15,
   "id": "50da1a17-d22f-49f3-bd42-f8814a886b66",
   "metadata": {},
   "outputs": [
    {
     "name": "stdout",
     "output_type": "stream",
     "text": [
      "\n",
      "Linear Regression\n",
      "MAE : 194.81403388895876\n",
      "MSE : 46868.69362374702\n",
      "RMSE: 216.49178650412358\n",
      "R2  : 0.037993633851026276\n",
      "\n",
      "Random Forest\n",
      "MAE : 205.73399999999998\n",
      "MSE : 47548.628006666666\n",
      "RMSE: 218.05647893760613\n",
      "R2  : 0.024037597222754337\n",
      "\n",
      "SVR\n",
      "MAE : 204.68034648586735\n",
      "MSE : 50780.193971211425\n",
      "RMSE: 225.3446115868126\n",
      "R2  : -0.0422921164978618\n",
      "\n",
      "KNN\n",
      "MAE : 185.22666666666666\n",
      "MSE : 41091.263999999996\n",
      "RMSE: 202.70980242701634\n",
      "R2  : 0.1565786348036936\n"
     ]
    }
   ],
   "source": [
    "models = {\n",
    "    \"Linear Regression\": LinearRegression(),\n",
    "    \"Random Forest\": RandomForestRegressor(),\n",
    "    \"SVR\": SVR(),\n",
    "    \"KNN\": KNeighborsRegressor()\n",
    "}\n",
    "\n",
    "def evaluate_model(name, model):\n",
    "    model.fit(X_train, y_train)\n",
    "    y_pred = model.predict(X_test)\n",
    "    print(f\"\\n{name}\")\n",
    "    print(\"MAE :\", mean_absolute_error(y_test, y_pred))\n",
    "    print(\"MSE :\", mean_squared_error(y_test, y_pred))\n",
    "    print(\"RMSE:\", np.sqrt(mean_squared_error(y_test, y_pred)))\n",
    "    print(\"R2  :\", r2_score(y_test, y_pred))\n",
    "\n",
    "for name, model in models.items():\n",
    "    evaluate_model(name, model)\n"
   ]
  },
  {
   "cell_type": "code",
   "execution_count": null,
   "id": "77093b63-f519-465e-98a2-8c987323e779",
   "metadata": {},
   "outputs": [],
   "source": []
  },
  {
   "cell_type": "markdown",
   "id": "4700d2ab-c248-441c-8a9a-eccf67a19ba1",
   "metadata": {},
   "source": [
    "### Evaluation Metrics Used"
   ]
  },
  {
   "cell_type": "markdown",
   "id": "1d4443d8-22a9-4c59-a50d-4e9c6a60926a",
   "metadata": {},
   "source": [
    "MAE (Mean Absolute Error): Measures average magnitude of errors without considering direction.\n",
    "\n",
    "MSE (Mean Squared Error): Penalizes larger errors more than MAE.\n",
    "\n",
    "RMSE (Root Mean Squared Error): Standard deviation of residuals (errors).\n",
    "\n",
    "R² (Coefficient of Determination): Indicates how well the model explains variability in the target."
   ]
  },
  {
   "cell_type": "code",
   "execution_count": null,
   "id": "1470ab28-b04a-4b62-aab4-3ec43abb3a56",
   "metadata": {},
   "outputs": [],
   "source": []
  },
  {
   "cell_type": "markdown",
   "id": "87d03595-8b97-4ba5-a6cf-904e421bec91",
   "metadata": {},
   "source": [
    "## GridSearchCV – Random Forest Regressor"
   ]
  },
  {
   "cell_type": "code",
   "execution_count": 21,
   "id": "d1e1a748-0361-474a-9cc3-f82e01b5c799",
   "metadata": {},
   "outputs": [
    {
     "name": "stdout",
     "output_type": "stream",
     "text": [
      "Best Params (GridSearchCV - RF): {'max_depth': 10, 'min_samples_split': 4, 'n_estimators': 50}\n",
      "RMSE: 211.34395377423056\n",
      "R2  : 0.08319968643251807\n"
     ]
    }
   ],
   "source": [
    "param_grid = {\n",
    "    'n_estimators': [50, 100, 150],\n",
    "    'max_depth': [None, 10, 20],\n",
    "    'min_samples_split': [2, 4]\n",
    "}\n",
    "\n",
    "grid_rf = GridSearchCV(RandomForestRegressor(), param_grid=param_grid,\n",
    "                       cv=5, scoring='neg_mean_squared_error', n_jobs=-1)\n",
    "grid_rf.fit(X_train, y_train)\n",
    "\n",
    "print(\"Best Params (GridSearchCV - RF):\", grid_rf.best_params_)\n",
    "y_pred = grid_rf.predict(X_test)\n",
    "print(\"RMSE:\", np.sqrt(mean_squared_error(y_test, y_pred)))\n",
    "print(\"R2  :\", r2_score(y_test, y_pred))\n"
   ]
  },
  {
   "cell_type": "markdown",
   "id": "db7ed2d3-8c98-428d-9c3c-ae4f15280cce",
   "metadata": {},
   "source": [
    "## RandomizedSearchCV – Random Forest Regressor"
   ]
  },
  {
   "cell_type": "code",
   "execution_count": 23,
   "id": "74b9403d-f6ab-45c2-adb2-4dd70249aaee",
   "metadata": {},
   "outputs": [
    {
     "name": "stdout",
     "output_type": "stream",
     "text": [
      "Best Params (RandomizedSearchCV - RF): {'max_depth': 23, 'min_samples_split': 8, 'n_estimators': 124}\n",
      "RMSE: 218.77787443936936\n",
      "R2  : 0.017569369340928453\n"
     ]
    }
   ],
   "source": [
    "param_dist = {\n",
    "    'n_estimators': randint(50, 200),\n",
    "    'max_depth': randint(5, 30),\n",
    "    'min_samples_split': randint(2, 10)\n",
    "}\n",
    "\n",
    "random_rf = RandomizedSearchCV(RandomForestRegressor(), param_distributions=param_dist,\n",
    "                               n_iter=10, cv=5, scoring='neg_mean_squared_error',\n",
    "                               random_state=42, n_jobs=-1)\n",
    "random_rf.fit(X_train, y_train)\n",
    "\n",
    "print(\"Best Params (RandomizedSearchCV - RF):\", random_rf.best_params_)\n",
    "y_pred = random_rf.predict(X_test)\n",
    "print(\"RMSE:\", np.sqrt(mean_squared_error(y_test, y_pred)))\n",
    "print(\"R2  :\", r2_score(y_test, y_pred))\n"
   ]
  },
  {
   "cell_type": "code",
   "execution_count": null,
   "id": "da001908-319a-4fa8-ad49-a155386c2b85",
   "metadata": {},
   "outputs": [],
   "source": []
  },
  {
   "cell_type": "markdown",
   "id": "5df8d5d6-784d-435b-8a14-9f302ea8b120",
   "metadata": {},
   "source": [
    "## Hyperparameter Tuning Results"
   ]
  },
  {
   "cell_type": "markdown",
   "id": "a5dce04a-cf6d-4a8c-a089-6f693a316873",
   "metadata": {},
   "source": [
    "To improve the baseline performance of the Random Forest Regressor, two hyperparameter optimization techniques were applied:\n",
    "\n",
    "GridSearchCV: Exhaustively tests combinations of parameters over a defined grid.\n",
    "\n",
    "RandomizedSearchCV: Samples a fixed number of parameter combinations from a distribution."
   ]
  },
  {
   "cell_type": "markdown",
   "id": "ddb94925-abdf-40eb-9e2d-d707ab1989f5",
   "metadata": {},
   "source": [
    "Best Parameters Found for:\n",
    "- GridSearchCV:\t{'n_estimators': 50, 'max_depth': 10, 'min_samples_split': 4}\n",
    "- RandomizedSearchCV:\t{'n_estimators': 124, 'max_depth': 23, 'min_samples_split': 8}"
   ]
  },
  {
   "cell_type": "code",
   "execution_count": null,
   "id": "4805c98c-b3bd-4fe8-9491-ae214c36e80a",
   "metadata": {},
   "outputs": [],
   "source": []
  },
  {
   "cell_type": "markdown",
   "id": "58cb49f6-d1cb-4ce9-a436-e258dd97a8e5",
   "metadata": {},
   "source": [
    "Tuned Model Performance:\n",
    "\t\n",
    "- GridSearchCV\n",
    "    - RMSE : 211.34\t\n",
    "    - R² Score : 0.0832\n",
    "- RandomizedSearchCV\t\n",
    "    - RMSE : 218.78\t\n",
    "    - R² Score : 0.0176"
   ]
  },
  {
   "cell_type": "markdown",
   "id": "7df013a7-6a60-42df-ab57-01e853f80990",
   "metadata": {},
   "source": [
    "GridSearchCV led to a moderate improvement in model performance compared to the untuned Random Forest (RMSE reduced from 218.06 to 211.34; R² increased from 0.024 to 0.083).\n",
    "\n",
    "RandomizedSearchCV did not yield better results compared to GridSearchCV, possibly due to randomness in parameter selection or fewer iterations."
   ]
  },
  {
   "cell_type": "code",
   "execution_count": null,
   "id": "3c2a06ac-d769-4bbc-a41a-93868f58f236",
   "metadata": {},
   "outputs": [],
   "source": []
  },
  {
   "cell_type": "markdown",
   "id": "455f5952-9758-4805-a8bc-9d05da1cd59b",
   "metadata": {},
   "source": [
    "### Conclusion"
   ]
  },
  {
   "cell_type": "markdown",
   "id": "28836479-d0a8-4252-bca3-e662052f0c32",
   "metadata": {},
   "source": [
    "\n",
    "The tuned model via GridSearchCV offered the best performance among all Random Forest configurations.\n",
    "\n",
    "However, the improvement was marginal, indicating that while tuning helped, the overall predictability of the dataset remains low.\n",
    "\n",
    "This further supports the earlier recommendation to explore additional features, more data, or advanced regression techniques (e.g., XGBoost, Gradient Boosting) to better model the underlying patterns."
   ]
  },
  {
   "cell_type": "code",
   "execution_count": null,
   "id": "1082b1c1-a2a8-4076-92ba-31f1fc83f0aa",
   "metadata": {},
   "outputs": [],
   "source": []
  }
 ],
 "metadata": {
  "kernelspec": {
   "display_name": "Python 3 (ipykernel)",
   "language": "python",
   "name": "python3"
  },
  "language_info": {
   "codemirror_mode": {
    "name": "ipython",
    "version": 3
   },
   "file_extension": ".py",
   "mimetype": "text/x-python",
   "name": "python",
   "nbconvert_exporter": "python",
   "pygments_lexer": "ipython3",
   "version": "3.12.7"
  }
 },
 "nbformat": 4,
 "nbformat_minor": 5
}
